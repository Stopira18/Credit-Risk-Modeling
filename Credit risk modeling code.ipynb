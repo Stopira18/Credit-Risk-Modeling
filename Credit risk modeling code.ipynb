{
 "cells": [
  {
   "cell_type": "code",
   "execution_count": 1,
   "id": "2eb7d45b",
   "metadata": {},
   "outputs": [
    {
     "data": {
      "text/html": [
       "<div>\n",
       "<style scoped>\n",
       "    .dataframe tbody tr th:only-of-type {\n",
       "        vertical-align: middle;\n",
       "    }\n",
       "\n",
       "    .dataframe tbody tr th {\n",
       "        vertical-align: top;\n",
       "    }\n",
       "\n",
       "    .dataframe thead th {\n",
       "        text-align: right;\n",
       "    }\n",
       "</style>\n",
       "<table border=\"1\" class=\"dataframe\">\n",
       "  <thead>\n",
       "    <tr style=\"text-align: right;\">\n",
       "      <th></th>\n",
       "      <th>Creditability</th>\n",
       "      <th>Account Balance</th>\n",
       "      <th>Duration of Credit (month)</th>\n",
       "      <th>Payment Status of Previous Credit</th>\n",
       "      <th>Purpose</th>\n",
       "      <th>Credit Amount</th>\n",
       "      <th>Value Savings/Stocks</th>\n",
       "      <th>Length of current employment</th>\n",
       "      <th>Instalment per cent</th>\n",
       "      <th>Sex &amp; Marital Status</th>\n",
       "      <th>...</th>\n",
       "      <th>Duration in Current address</th>\n",
       "      <th>Most valuable available asset</th>\n",
       "      <th>Age (years)</th>\n",
       "      <th>Concurrent Credits</th>\n",
       "      <th>Type of apartment</th>\n",
       "      <th>No of Credits at this Bank</th>\n",
       "      <th>Occupation</th>\n",
       "      <th>No of dependents</th>\n",
       "      <th>Telephone</th>\n",
       "      <th>Foreign Worker</th>\n",
       "    </tr>\n",
       "  </thead>\n",
       "  <tbody>\n",
       "    <tr>\n",
       "      <th>0</th>\n",
       "      <td>1</td>\n",
       "      <td>1</td>\n",
       "      <td>18</td>\n",
       "      <td>4</td>\n",
       "      <td>2</td>\n",
       "      <td>1049</td>\n",
       "      <td>1</td>\n",
       "      <td>2</td>\n",
       "      <td>4</td>\n",
       "      <td>2</td>\n",
       "      <td>...</td>\n",
       "      <td>4</td>\n",
       "      <td>2</td>\n",
       "      <td>21</td>\n",
       "      <td>3</td>\n",
       "      <td>1</td>\n",
       "      <td>1</td>\n",
       "      <td>3</td>\n",
       "      <td>1</td>\n",
       "      <td>1</td>\n",
       "      <td>1</td>\n",
       "    </tr>\n",
       "    <tr>\n",
       "      <th>1</th>\n",
       "      <td>1</td>\n",
       "      <td>1</td>\n",
       "      <td>9</td>\n",
       "      <td>4</td>\n",
       "      <td>0</td>\n",
       "      <td>2799</td>\n",
       "      <td>1</td>\n",
       "      <td>3</td>\n",
       "      <td>2</td>\n",
       "      <td>3</td>\n",
       "      <td>...</td>\n",
       "      <td>2</td>\n",
       "      <td>1</td>\n",
       "      <td>36</td>\n",
       "      <td>3</td>\n",
       "      <td>1</td>\n",
       "      <td>2</td>\n",
       "      <td>3</td>\n",
       "      <td>2</td>\n",
       "      <td>1</td>\n",
       "      <td>1</td>\n",
       "    </tr>\n",
       "    <tr>\n",
       "      <th>2</th>\n",
       "      <td>1</td>\n",
       "      <td>2</td>\n",
       "      <td>12</td>\n",
       "      <td>2</td>\n",
       "      <td>9</td>\n",
       "      <td>841</td>\n",
       "      <td>2</td>\n",
       "      <td>4</td>\n",
       "      <td>2</td>\n",
       "      <td>2</td>\n",
       "      <td>...</td>\n",
       "      <td>4</td>\n",
       "      <td>1</td>\n",
       "      <td>23</td>\n",
       "      <td>3</td>\n",
       "      <td>1</td>\n",
       "      <td>1</td>\n",
       "      <td>2</td>\n",
       "      <td>1</td>\n",
       "      <td>1</td>\n",
       "      <td>1</td>\n",
       "    </tr>\n",
       "    <tr>\n",
       "      <th>3</th>\n",
       "      <td>1</td>\n",
       "      <td>1</td>\n",
       "      <td>12</td>\n",
       "      <td>4</td>\n",
       "      <td>0</td>\n",
       "      <td>2122</td>\n",
       "      <td>1</td>\n",
       "      <td>3</td>\n",
       "      <td>3</td>\n",
       "      <td>3</td>\n",
       "      <td>...</td>\n",
       "      <td>2</td>\n",
       "      <td>1</td>\n",
       "      <td>39</td>\n",
       "      <td>3</td>\n",
       "      <td>1</td>\n",
       "      <td>2</td>\n",
       "      <td>2</td>\n",
       "      <td>2</td>\n",
       "      <td>1</td>\n",
       "      <td>2</td>\n",
       "    </tr>\n",
       "    <tr>\n",
       "      <th>4</th>\n",
       "      <td>1</td>\n",
       "      <td>1</td>\n",
       "      <td>12</td>\n",
       "      <td>4</td>\n",
       "      <td>0</td>\n",
       "      <td>2171</td>\n",
       "      <td>1</td>\n",
       "      <td>3</td>\n",
       "      <td>4</td>\n",
       "      <td>3</td>\n",
       "      <td>...</td>\n",
       "      <td>4</td>\n",
       "      <td>2</td>\n",
       "      <td>38</td>\n",
       "      <td>1</td>\n",
       "      <td>2</td>\n",
       "      <td>2</td>\n",
       "      <td>2</td>\n",
       "      <td>1</td>\n",
       "      <td>1</td>\n",
       "      <td>2</td>\n",
       "    </tr>\n",
       "  </tbody>\n",
       "</table>\n",
       "<p>5 rows × 21 columns</p>\n",
       "</div>"
      ],
      "text/plain": [
       "   Creditability  Account Balance  Duration of Credit (month)  \\\n",
       "0              1                1                          18   \n",
       "1              1                1                           9   \n",
       "2              1                2                          12   \n",
       "3              1                1                          12   \n",
       "4              1                1                          12   \n",
       "\n",
       "   Payment Status of Previous Credit  Purpose  Credit Amount  \\\n",
       "0                                  4        2           1049   \n",
       "1                                  4        0           2799   \n",
       "2                                  2        9            841   \n",
       "3                                  4        0           2122   \n",
       "4                                  4        0           2171   \n",
       "\n",
       "   Value Savings/Stocks  Length of current employment  Instalment per cent  \\\n",
       "0                     1                             2                    4   \n",
       "1                     1                             3                    2   \n",
       "2                     2                             4                    2   \n",
       "3                     1                             3                    3   \n",
       "4                     1                             3                    4   \n",
       "\n",
       "   Sex & Marital Status  ...  Duration in Current address  \\\n",
       "0                     2  ...                            4   \n",
       "1                     3  ...                            2   \n",
       "2                     2  ...                            4   \n",
       "3                     3  ...                            2   \n",
       "4                     3  ...                            4   \n",
       "\n",
       "   Most valuable available asset  Age (years)  Concurrent Credits  \\\n",
       "0                              2           21                   3   \n",
       "1                              1           36                   3   \n",
       "2                              1           23                   3   \n",
       "3                              1           39                   3   \n",
       "4                              2           38                   1   \n",
       "\n",
       "   Type of apartment  No of Credits at this Bank  Occupation  \\\n",
       "0                  1                           1           3   \n",
       "1                  1                           2           3   \n",
       "2                  1                           1           2   \n",
       "3                  1                           2           2   \n",
       "4                  2                           2           2   \n",
       "\n",
       "   No of dependents  Telephone  Foreign Worker  \n",
       "0                 1          1               1  \n",
       "1                 2          1               1  \n",
       "2                 1          1               1  \n",
       "3                 2          1               2  \n",
       "4                 1          1               2  \n",
       "\n",
       "[5 rows x 21 columns]"
      ]
     },
     "execution_count": 1,
     "metadata": {},
     "output_type": "execute_result"
    }
   ],
   "source": [
    "#import pandas\n",
    "import pandas as pd\n",
    "\n",
    "# load dataset\n",
    "credit = pd.read_csv(\"german_credit (1).csv\")\n",
    "\n",
    "credit.head()"
   ]
  },
  {
   "cell_type": "code",
   "execution_count": 2,
   "id": "712cf3dd",
   "metadata": {},
   "outputs": [
    {
     "name": "stdout",
     "output_type": "stream",
     "text": [
      "<class 'pandas.core.frame.DataFrame'>\n",
      "RangeIndex: 1000 entries, 0 to 999\n",
      "Data columns (total 21 columns):\n",
      " #   Column                             Non-Null Count  Dtype\n",
      "---  ------                             --------------  -----\n",
      " 0   Creditability                      1000 non-null   int64\n",
      " 1   Account Balance                    1000 non-null   int64\n",
      " 2   Duration of Credit (month)         1000 non-null   int64\n",
      " 3   Payment Status of Previous Credit  1000 non-null   int64\n",
      " 4   Purpose                            1000 non-null   int64\n",
      " 5   Credit Amount                      1000 non-null   int64\n",
      " 6   Value Savings/Stocks               1000 non-null   int64\n",
      " 7   Length of current employment       1000 non-null   int64\n",
      " 8   Instalment per cent                1000 non-null   int64\n",
      " 9   Sex & Marital Status               1000 non-null   int64\n",
      " 10  Guarantors                         1000 non-null   int64\n",
      " 11  Duration in Current address        1000 non-null   int64\n",
      " 12  Most valuable available asset      1000 non-null   int64\n",
      " 13  Age (years)                        1000 non-null   int64\n",
      " 14  Concurrent Credits                 1000 non-null   int64\n",
      " 15  Type of apartment                  1000 non-null   int64\n",
      " 16  No of Credits at this Bank         1000 non-null   int64\n",
      " 17  Occupation                         1000 non-null   int64\n",
      " 18  No of dependents                   1000 non-null   int64\n",
      " 19  Telephone                          1000 non-null   int64\n",
      " 20  Foreign Worker                     1000 non-null   int64\n",
      "dtypes: int64(21)\n",
      "memory usage: 164.2 KB\n"
     ]
    }
   ],
   "source": [
    "credit.info()"
   ]
  },
  {
   "cell_type": "code",
   "execution_count": 3,
   "id": "67bcf2b2",
   "metadata": {},
   "outputs": [
    {
     "data": {
      "text/plain": [
       "<AxesSubplot:>"
      ]
     },
     "execution_count": 3,
     "metadata": {},
     "output_type": "execute_result"
    },
    {
     "data": {
      "image/png": "[encoded data removed]",
      "text/plain": [
       "<Figure size 640x480 with 1 Axes>"
      ]
     },
     "metadata": {},
     "output_type": "display_data"
    }
   ],
   "source": [
    "credit['Creditability'].value_counts().plot(kind='bar')"
   ]
  },
  {
   "cell_type": "code",
   "execution_count": 4,
   "id": "31f992d7",
   "metadata": {},
   "outputs": [
    {
     "data": {
      "text/plain": [
       "<AxesSubplot:title={'center':'Account Balance'}, xlabel='Creditability'>"
      ]
     },
     "execution_count": 4,
     "metadata": {},
     "output_type": "execute_result"
    },
    {
     "data": {
      "image/png": "[encoded data removed]",
      "text/plain": [
       "<Figure size 800x800 with 1 Axes>"
      ]
     },
     "metadata": {},
     "output_type": "display_data"
    }
   ],
   "source": [
    "credit.boxplot(column=\"Account Balance\",        # Column to plot\n",
    "                 by= \"Creditability\",         # Column to split upon\n",
    "                 figsize= (8,8)) "
   ]
  },
  {
   "cell_type": "code",
   "execution_count": 5,
   "id": "e16f0ecd",
   "metadata": {},
   "outputs": [
    {
     "data": {
      "text/plain": [
       "<AxesSubplot:title={'center':'Age (years)'}, xlabel='Creditability'>"
      ]
     },
     "execution_count": 5,
     "metadata": {},
     "output_type": "execute_result"
    },
    {
     "data": {
      "image/png": "[encoded data removed]",
      "text/plain": [
       "<Figure size 800x800 with 1 Axes>"
      ]
     },
     "metadata": {},
     "output_type": "display_data"
    }
   ],
   "source": [
    "credit.boxplot(column=\"Age (years)\",        # Column to plot\n",
    "                 by= \"Creditability\",         # Column to split upon\n",
    "                 figsize= (8,8)) "
   ]
  },
  {
   "cell_type": "code",
   "execution_count": 6,
   "id": "f7c07f93",
   "metadata": {},
   "outputs": [
    {
     "data": {
      "text/plain": [
       "<AxesSubplot:title={'center':'Duration of Credit (month)'}, xlabel='Creditability'>"
      ]
     },
     "execution_count": 6,
     "metadata": {},
     "output_type": "execute_result"
    },
    {
     "data": {
      "image/png": "[encoded data removed]",
      "text/plain": [
       "<Figure size 800x800 with 1 Axes>"
      ]
     },
     "metadata": {},
     "output_type": "display_data"
    }
   ],
   "source": [
    "credit.boxplot(column=\"Duration of Credit (month)\",        # Column to plot\n",
    "                 by= \"Creditability\",         # Column to split upon\n",
    "                 figsize= (8,8)) "
   ]
  },
  {
   "cell_type": "code",
   "execution_count": 8,
   "id": "7bcb2c0e",
   "metadata": {},
   "outputs": [
    {
     "data": {
      "text/plain": [
       "<AxesSubplot:title={'center':'Instalment per cent'}, xlabel='Creditability'>"
      ]
     },
     "execution_count": 8,
     "metadata": {},
     "output_type": "execute_result"
    },
    {
     "data": {
      "image/png": "[encoded data removed]",
      "text/plain": [
       "<Figure size 800x800 with 1 Axes>"
      ]
     },
     "metadata": {},
     "output_type": "display_data"
    }
   ],
   "source": [
    "credit.boxplot(column=\"Instalment per cent\",        # Column to plot\n",
    "                 by= \"Creditability\",         # Column to split upon\n",
    "                 figsize= (8,8))"
   ]
  },
  {
   "cell_type": "code",
   "execution_count": 9,
   "id": "52627242",
   "metadata": {},
   "outputs": [
    {
     "data": {
      "text/html": [
       "<div>\n",
       "<style scoped>\n",
       "    .dataframe tbody tr th:only-of-type {\n",
       "        vertical-align: middle;\n",
       "    }\n",
       "\n",
       "    .dataframe tbody tr th {\n",
       "        vertical-align: top;\n",
       "    }\n",
       "\n",
       "    .dataframe thead th {\n",
       "        text-align: right;\n",
       "    }\n",
       "</style>\n",
       "<table border=\"1\" class=\"dataframe\">\n",
       "  <thead>\n",
       "    <tr style=\"text-align: right;\">\n",
       "      <th></th>\n",
       "      <th>Creditability</th>\n",
       "      <th>Account Balance</th>\n",
       "      <th>Duration of Credit (month)</th>\n",
       "      <th>Payment Status of Previous Credit</th>\n",
       "      <th>Purpose</th>\n",
       "      <th>Credit Amount</th>\n",
       "      <th>Value Savings/Stocks</th>\n",
       "      <th>Length of current employment</th>\n",
       "      <th>Instalment per cent</th>\n",
       "      <th>Sex &amp; Marital Status</th>\n",
       "      <th>...</th>\n",
       "      <th>Duration in Current address</th>\n",
       "      <th>Most valuable available asset</th>\n",
       "      <th>Age (years)</th>\n",
       "      <th>Concurrent Credits</th>\n",
       "      <th>Type of apartment</th>\n",
       "      <th>No of Credits at this Bank</th>\n",
       "      <th>Occupation</th>\n",
       "      <th>No of dependents</th>\n",
       "      <th>Telephone</th>\n",
       "      <th>Foreign Worker</th>\n",
       "    </tr>\n",
       "  </thead>\n",
       "  <tbody>\n",
       "    <tr>\n",
       "      <th>Creditability</th>\n",
       "      <td>1.000000</td>\n",
       "      <td>0.350847</td>\n",
       "      <td>-0.214927</td>\n",
       "      <td>0.228785</td>\n",
       "      <td>-0.017979</td>\n",
       "      <td>-0.154740</td>\n",
       "      <td>0.178943</td>\n",
       "      <td>0.116002</td>\n",
       "      <td>-0.072404</td>\n",
       "      <td>0.088184</td>\n",
       "      <td>...</td>\n",
       "      <td>-0.002967</td>\n",
       "      <td>-0.142612</td>\n",
       "      <td>0.091272</td>\n",
       "      <td>0.109844</td>\n",
       "      <td>0.018119</td>\n",
       "      <td>0.045732</td>\n",
       "      <td>-0.032735</td>\n",
       "      <td>0.003015</td>\n",
       "      <td>0.036466</td>\n",
       "      <td>0.082079</td>\n",
       "    </tr>\n",
       "    <tr>\n",
       "      <th>Account Balance</th>\n",
       "      <td>0.350847</td>\n",
       "      <td>1.000000</td>\n",
       "      <td>-0.072013</td>\n",
       "      <td>0.192191</td>\n",
       "      <td>0.028783</td>\n",
       "      <td>-0.042695</td>\n",
       "      <td>0.222867</td>\n",
       "      <td>0.106339</td>\n",
       "      <td>-0.005280</td>\n",
       "      <td>0.043261</td>\n",
       "      <td>...</td>\n",
       "      <td>-0.042234</td>\n",
       "      <td>-0.032260</td>\n",
       "      <td>0.058631</td>\n",
       "      <td>0.068274</td>\n",
       "      <td>0.023335</td>\n",
       "      <td>0.076005</td>\n",
       "      <td>0.040663</td>\n",
       "      <td>-0.014145</td>\n",
       "      <td>0.066296</td>\n",
       "      <td>-0.035187</td>\n",
       "    </tr>\n",
       "    <tr>\n",
       "      <th>Duration of Credit (month)</th>\n",
       "      <td>-0.214927</td>\n",
       "      <td>-0.072013</td>\n",
       "      <td>1.000000</td>\n",
       "      <td>-0.077186</td>\n",
       "      <td>0.147492</td>\n",
       "      <td>0.624988</td>\n",
       "      <td>0.047661</td>\n",
       "      <td>0.057381</td>\n",
       "      <td>0.074749</td>\n",
       "      <td>0.014789</td>\n",
       "      <td>...</td>\n",
       "      <td>0.034067</td>\n",
       "      <td>0.303971</td>\n",
       "      <td>-0.037550</td>\n",
       "      <td>-0.062884</td>\n",
       "      <td>0.153126</td>\n",
       "      <td>-0.011284</td>\n",
       "      <td>0.210910</td>\n",
       "      <td>-0.023834</td>\n",
       "      <td>0.164718</td>\n",
       "      <td>-0.134680</td>\n",
       "    </tr>\n",
       "    <tr>\n",
       "      <th>Payment Status of Previous Credit</th>\n",
       "      <td>0.228785</td>\n",
       "      <td>0.192191</td>\n",
       "      <td>-0.077186</td>\n",
       "      <td>1.000000</td>\n",
       "      <td>-0.090336</td>\n",
       "      <td>-0.059915</td>\n",
       "      <td>0.039058</td>\n",
       "      <td>0.138225</td>\n",
       "      <td>0.044375</td>\n",
       "      <td>0.042171</td>\n",
       "      <td>...</td>\n",
       "      <td>0.063198</td>\n",
       "      <td>-0.053777</td>\n",
       "      <td>0.146337</td>\n",
       "      <td>0.159957</td>\n",
       "      <td>0.061428</td>\n",
       "      <td>0.437066</td>\n",
       "      <td>0.010350</td>\n",
       "      <td>0.011550</td>\n",
       "      <td>0.052370</td>\n",
       "      <td>0.028554</td>\n",
       "    </tr>\n",
       "    <tr>\n",
       "      <th>Purpose</th>\n",
       "      <td>-0.017979</td>\n",
       "      <td>0.028783</td>\n",
       "      <td>0.147492</td>\n",
       "      <td>-0.090336</td>\n",
       "      <td>1.000000</td>\n",
       "      <td>0.068480</td>\n",
       "      <td>-0.018684</td>\n",
       "      <td>0.016013</td>\n",
       "      <td>0.048369</td>\n",
       "      <td>0.000157</td>\n",
       "      <td>...</td>\n",
       "      <td>-0.038221</td>\n",
       "      <td>0.010966</td>\n",
       "      <td>-0.000892</td>\n",
       "      <td>-0.100230</td>\n",
       "      <td>0.013495</td>\n",
       "      <td>0.054935</td>\n",
       "      <td>0.008085</td>\n",
       "      <td>-0.032577</td>\n",
       "      <td>0.078371</td>\n",
       "      <td>-0.113244</td>\n",
       "    </tr>\n",
       "    <tr>\n",
       "      <th>Credit Amount</th>\n",
       "      <td>-0.154740</td>\n",
       "      <td>-0.042695</td>\n",
       "      <td>0.624988</td>\n",
       "      <td>-0.059915</td>\n",
       "      <td>0.068480</td>\n",
       "      <td>1.000000</td>\n",
       "      <td>0.064632</td>\n",
       "      <td>-0.008376</td>\n",
       "      <td>-0.271322</td>\n",
       "      <td>-0.016094</td>\n",
       "      <td>...</td>\n",
       "      <td>0.028917</td>\n",
       "      <td>0.311602</td>\n",
       "      <td>0.032273</td>\n",
       "      <td>-0.069392</td>\n",
       "      <td>0.133024</td>\n",
       "      <td>0.020785</td>\n",
       "      <td>0.285393</td>\n",
       "      <td>0.017144</td>\n",
       "      <td>0.277000</td>\n",
       "      <td>-0.030662</td>\n",
       "    </tr>\n",
       "    <tr>\n",
       "      <th>Value Savings/Stocks</th>\n",
       "      <td>0.178943</td>\n",
       "      <td>0.222867</td>\n",
       "      <td>0.047661</td>\n",
       "      <td>0.039058</td>\n",
       "      <td>-0.018684</td>\n",
       "      <td>0.064632</td>\n",
       "      <td>1.000000</td>\n",
       "      <td>0.120950</td>\n",
       "      <td>0.021993</td>\n",
       "      <td>0.017349</td>\n",
       "      <td>...</td>\n",
       "      <td>0.091424</td>\n",
       "      <td>0.018948</td>\n",
       "      <td>0.083434</td>\n",
       "      <td>0.001908</td>\n",
       "      <td>0.006644</td>\n",
       "      <td>-0.021644</td>\n",
       "      <td>0.011709</td>\n",
       "      <td>0.027514</td>\n",
       "      <td>0.087208</td>\n",
       "      <td>0.010450</td>\n",
       "    </tr>\n",
       "    <tr>\n",
       "      <th>Length of current employment</th>\n",
       "      <td>0.116002</td>\n",
       "      <td>0.106339</td>\n",
       "      <td>0.057381</td>\n",
       "      <td>0.138225</td>\n",
       "      <td>0.016013</td>\n",
       "      <td>-0.008376</td>\n",
       "      <td>0.120950</td>\n",
       "      <td>1.000000</td>\n",
       "      <td>0.126161</td>\n",
       "      <td>0.111278</td>\n",
       "      <td>...</td>\n",
       "      <td>0.245081</td>\n",
       "      <td>0.087187</td>\n",
       "      <td>0.259116</td>\n",
       "      <td>-0.007279</td>\n",
       "      <td>0.115077</td>\n",
       "      <td>0.125791</td>\n",
       "      <td>0.101225</td>\n",
       "      <td>0.097192</td>\n",
       "      <td>0.060518</td>\n",
       "      <td>-0.022845</td>\n",
       "    </tr>\n",
       "    <tr>\n",
       "      <th>Instalment per cent</th>\n",
       "      <td>-0.072404</td>\n",
       "      <td>-0.005280</td>\n",
       "      <td>0.074749</td>\n",
       "      <td>0.044375</td>\n",
       "      <td>0.048369</td>\n",
       "      <td>-0.271322</td>\n",
       "      <td>0.021993</td>\n",
       "      <td>0.126161</td>\n",
       "      <td>1.000000</td>\n",
       "      <td>0.119308</td>\n",
       "      <td>...</td>\n",
       "      <td>0.049302</td>\n",
       "      <td>0.053391</td>\n",
       "      <td>0.057271</td>\n",
       "      <td>0.007894</td>\n",
       "      <td>0.091229</td>\n",
       "      <td>0.021669</td>\n",
       "      <td>0.097755</td>\n",
       "      <td>-0.071207</td>\n",
       "      <td>0.014413</td>\n",
       "      <td>-0.094762</td>\n",
       "    </tr>\n",
       "    <tr>\n",
       "      <th>Sex &amp; Marital Status</th>\n",
       "      <td>0.088184</td>\n",
       "      <td>0.043261</td>\n",
       "      <td>0.014789</td>\n",
       "      <td>0.042171</td>\n",
       "      <td>0.000157</td>\n",
       "      <td>-0.016094</td>\n",
       "      <td>0.017349</td>\n",
       "      <td>0.111278</td>\n",
       "      <td>0.119308</td>\n",
       "      <td>1.000000</td>\n",
       "      <td>...</td>\n",
       "      <td>-0.027269</td>\n",
       "      <td>-0.006940</td>\n",
       "      <td>0.005150</td>\n",
       "      <td>-0.026747</td>\n",
       "      <td>0.098934</td>\n",
       "      <td>0.064672</td>\n",
       "      <td>-0.011956</td>\n",
       "      <td>0.122165</td>\n",
       "      <td>0.027275</td>\n",
       "      <td>0.073103</td>\n",
       "    </tr>\n",
       "    <tr>\n",
       "      <th>Guarantors</th>\n",
       "      <td>0.025137</td>\n",
       "      <td>-0.127737</td>\n",
       "      <td>-0.024490</td>\n",
       "      <td>-0.040676</td>\n",
       "      <td>-0.017607</td>\n",
       "      <td>-0.027831</td>\n",
       "      <td>-0.105069</td>\n",
       "      <td>-0.008116</td>\n",
       "      <td>-0.011398</td>\n",
       "      <td>0.050634</td>\n",
       "      <td>...</td>\n",
       "      <td>-0.025678</td>\n",
       "      <td>-0.155450</td>\n",
       "      <td>-0.029826</td>\n",
       "      <td>-0.038235</td>\n",
       "      <td>-0.065449</td>\n",
       "      <td>-0.025447</td>\n",
       "      <td>-0.057963</td>\n",
       "      <td>0.020400</td>\n",
       "      <td>-0.075035</td>\n",
       "      <td>0.140190</td>\n",
       "    </tr>\n",
       "    <tr>\n",
       "      <th>Duration in Current address</th>\n",
       "      <td>-0.002967</td>\n",
       "      <td>-0.042234</td>\n",
       "      <td>0.034067</td>\n",
       "      <td>0.063198</td>\n",
       "      <td>-0.038221</td>\n",
       "      <td>0.028917</td>\n",
       "      <td>0.091424</td>\n",
       "      <td>0.245081</td>\n",
       "      <td>0.049302</td>\n",
       "      <td>-0.027269</td>\n",
       "      <td>...</td>\n",
       "      <td>1.000000</td>\n",
       "      <td>0.147231</td>\n",
       "      <td>0.265626</td>\n",
       "      <td>0.022654</td>\n",
       "      <td>0.009990</td>\n",
       "      <td>0.089625</td>\n",
       "      <td>0.012655</td>\n",
       "      <td>0.042643</td>\n",
       "      <td>0.095359</td>\n",
       "      <td>-0.039691</td>\n",
       "    </tr>\n",
       "    <tr>\n",
       "      <th>Most valuable available asset</th>\n",
       "      <td>-0.142612</td>\n",
       "      <td>-0.032260</td>\n",
       "      <td>0.303971</td>\n",
       "      <td>-0.053777</td>\n",
       "      <td>0.010966</td>\n",
       "      <td>0.311602</td>\n",
       "      <td>0.018948</td>\n",
       "      <td>0.087187</td>\n",
       "      <td>0.053391</td>\n",
       "      <td>-0.006940</td>\n",
       "      <td>...</td>\n",
       "      <td>0.147231</td>\n",
       "      <td>1.000000</td>\n",
       "      <td>0.074551</td>\n",
       "      <td>-0.107593</td>\n",
       "      <td>0.342969</td>\n",
       "      <td>-0.007765</td>\n",
       "      <td>0.276149</td>\n",
       "      <td>0.011872</td>\n",
       "      <td>0.196802</td>\n",
       "      <td>-0.132462</td>\n",
       "    </tr>\n",
       "    <tr>\n",
       "      <th>Age (years)</th>\n",
       "      <td>0.091272</td>\n",
       "      <td>0.058631</td>\n",
       "      <td>-0.037550</td>\n",
       "      <td>0.146337</td>\n",
       "      <td>-0.000892</td>\n",
       "      <td>0.032273</td>\n",
       "      <td>0.083434</td>\n",
       "      <td>0.259116</td>\n",
       "      <td>0.057271</td>\n",
       "      <td>0.005150</td>\n",
       "      <td>...</td>\n",
       "      <td>0.265626</td>\n",
       "      <td>0.074551</td>\n",
       "      <td>1.000000</td>\n",
       "      <td>-0.030472</td>\n",
       "      <td>0.303346</td>\n",
       "      <td>0.150718</td>\n",
       "      <td>0.015383</td>\n",
       "      <td>0.118589</td>\n",
       "      <td>0.143506</td>\n",
       "      <td>0.013981</td>\n",
       "    </tr>\n",
       "    <tr>\n",
       "      <th>Concurrent Credits</th>\n",
       "      <td>0.109844</td>\n",
       "      <td>0.068274</td>\n",
       "      <td>-0.062884</td>\n",
       "      <td>0.159957</td>\n",
       "      <td>-0.100230</td>\n",
       "      <td>-0.069392</td>\n",
       "      <td>0.001908</td>\n",
       "      <td>-0.007279</td>\n",
       "      <td>0.007894</td>\n",
       "      <td>-0.026747</td>\n",
       "      <td>...</td>\n",
       "      <td>0.022654</td>\n",
       "      <td>-0.107593</td>\n",
       "      <td>-0.030472</td>\n",
       "      <td>1.000000</td>\n",
       "      <td>-0.097398</td>\n",
       "      <td>-0.055810</td>\n",
       "      <td>0.006077</td>\n",
       "      <td>-0.076891</td>\n",
       "      <td>-0.025140</td>\n",
       "      <td>0.007700</td>\n",
       "    </tr>\n",
       "    <tr>\n",
       "      <th>Type of apartment</th>\n",
       "      <td>0.018119</td>\n",
       "      <td>0.023335</td>\n",
       "      <td>0.153126</td>\n",
       "      <td>0.061428</td>\n",
       "      <td>0.013495</td>\n",
       "      <td>0.133024</td>\n",
       "      <td>0.006644</td>\n",
       "      <td>0.115077</td>\n",
       "      <td>0.091229</td>\n",
       "      <td>0.098934</td>\n",
       "      <td>...</td>\n",
       "      <td>0.009990</td>\n",
       "      <td>0.342969</td>\n",
       "      <td>0.303346</td>\n",
       "      <td>-0.097398</td>\n",
       "      <td>1.000000</td>\n",
       "      <td>0.050020</td>\n",
       "      <td>0.104243</td>\n",
       "      <td>0.115549</td>\n",
       "      <td>0.100327</td>\n",
       "      <td>-0.083336</td>\n",
       "    </tr>\n",
       "    <tr>\n",
       "      <th>No of Credits at this Bank</th>\n",
       "      <td>0.045732</td>\n",
       "      <td>0.076005</td>\n",
       "      <td>-0.011284</td>\n",
       "      <td>0.437066</td>\n",
       "      <td>0.054935</td>\n",
       "      <td>0.020785</td>\n",
       "      <td>-0.021644</td>\n",
       "      <td>0.125791</td>\n",
       "      <td>0.021669</td>\n",
       "      <td>0.064672</td>\n",
       "      <td>...</td>\n",
       "      <td>0.089625</td>\n",
       "      <td>-0.007765</td>\n",
       "      <td>0.150718</td>\n",
       "      <td>-0.055810</td>\n",
       "      <td>0.050020</td>\n",
       "      <td>1.000000</td>\n",
       "      <td>-0.026321</td>\n",
       "      <td>0.109667</td>\n",
       "      <td>0.065553</td>\n",
       "      <td>-0.018893</td>\n",
       "    </tr>\n",
       "    <tr>\n",
       "      <th>Occupation</th>\n",
       "      <td>-0.032735</td>\n",
       "      <td>0.040663</td>\n",
       "      <td>0.210910</td>\n",
       "      <td>0.010350</td>\n",
       "      <td>0.008085</td>\n",
       "      <td>0.285393</td>\n",
       "      <td>0.011709</td>\n",
       "      <td>0.101225</td>\n",
       "      <td>0.097755</td>\n",
       "      <td>-0.011956</td>\n",
       "      <td>...</td>\n",
       "      <td>0.012655</td>\n",
       "      <td>0.276149</td>\n",
       "      <td>0.015383</td>\n",
       "      <td>0.006077</td>\n",
       "      <td>0.104243</td>\n",
       "      <td>-0.026321</td>\n",
       "      <td>1.000000</td>\n",
       "      <td>-0.093559</td>\n",
       "      <td>0.383022</td>\n",
       "      <td>-0.092835</td>\n",
       "    </tr>\n",
       "    <tr>\n",
       "      <th>No of dependents</th>\n",
       "      <td>0.003015</td>\n",
       "      <td>-0.014145</td>\n",
       "      <td>-0.023834</td>\n",
       "      <td>0.011550</td>\n",
       "      <td>-0.032577</td>\n",
       "      <td>0.017144</td>\n",
       "      <td>0.027514</td>\n",
       "      <td>0.097192</td>\n",
       "      <td>-0.071207</td>\n",
       "      <td>0.122165</td>\n",
       "      <td>...</td>\n",
       "      <td>0.042643</td>\n",
       "      <td>0.011872</td>\n",
       "      <td>0.118589</td>\n",
       "      <td>-0.076891</td>\n",
       "      <td>0.115549</td>\n",
       "      <td>0.109667</td>\n",
       "      <td>-0.093559</td>\n",
       "      <td>1.000000</td>\n",
       "      <td>-0.014753</td>\n",
       "      <td>0.077071</td>\n",
       "    </tr>\n",
       "    <tr>\n",
       "      <th>Telephone</th>\n",
       "      <td>0.036466</td>\n",
       "      <td>0.066296</td>\n",
       "      <td>0.164718</td>\n",
       "      <td>0.052370</td>\n",
       "      <td>0.078371</td>\n",
       "      <td>0.277000</td>\n",
       "      <td>0.087208</td>\n",
       "      <td>0.060518</td>\n",
       "      <td>0.014413</td>\n",
       "      <td>0.027275</td>\n",
       "      <td>...</td>\n",
       "      <td>0.095359</td>\n",
       "      <td>0.196802</td>\n",
       "      <td>0.143506</td>\n",
       "      <td>-0.025140</td>\n",
       "      <td>0.100327</td>\n",
       "      <td>0.065553</td>\n",
       "      <td>0.383022</td>\n",
       "      <td>-0.014753</td>\n",
       "      <td>1.000000</td>\n",
       "      <td>-0.075012</td>\n",
       "    </tr>\n",
       "    <tr>\n",
       "      <th>Foreign Worker</th>\n",
       "      <td>0.082079</td>\n",
       "      <td>-0.035187</td>\n",
       "      <td>-0.134680</td>\n",
       "      <td>0.028554</td>\n",
       "      <td>-0.113244</td>\n",
       "      <td>-0.030662</td>\n",
       "      <td>0.010450</td>\n",
       "      <td>-0.022845</td>\n",
       "      <td>-0.094762</td>\n",
       "      <td>0.073103</td>\n",
       "      <td>...</td>\n",
       "      <td>-0.039691</td>\n",
       "      <td>-0.132462</td>\n",
       "      <td>0.013981</td>\n",
       "      <td>0.007700</td>\n",
       "      <td>-0.083336</td>\n",
       "      <td>-0.018893</td>\n",
       "      <td>-0.092835</td>\n",
       "      <td>0.077071</td>\n",
       "      <td>-0.075012</td>\n",
       "      <td>1.000000</td>\n",
       "    </tr>\n",
       "  </tbody>\n",
       "</table>\n",
       "<p>21 rows × 21 columns</p>\n",
       "</div>"
      ],
      "text/plain": [
       "                                   Creditability  Account Balance  \\\n",
       "Creditability                           1.000000         0.350847   \n",
       "Account Balance                         0.350847         1.000000   \n",
       "Duration of Credit (month)             -0.214927        -0.072013   \n",
       "Payment Status of Previous Credit       0.228785         0.192191   \n",
       "Purpose                                -0.017979         0.028783   \n",
       "Credit Amount                          -0.154740        -0.042695   \n",
       "Value Savings/Stocks                    0.178943         0.222867   \n",
       "Length of current employment            0.116002         0.106339   \n",
       "Instalment per cent                    -0.072404        -0.005280   \n",
       "Sex & Marital Status                    0.088184         0.043261   \n",
       "Guarantors                              0.025137        -0.127737   \n",
       "Duration in Current address            -0.002967        -0.042234   \n",
       "Most valuable available asset          -0.142612        -0.032260   \n",
       "Age (years)                             0.091272         0.058631   \n",
       "Concurrent Credits                      0.109844         0.068274   \n",
       "Type of apartment                       0.018119         0.023335   \n",
       "No of Credits at this Bank              0.045732         0.076005   \n",
       "Occupation                             -0.032735         0.040663   \n",
       "No of dependents                        0.003015        -0.014145   \n",
       "Telephone                               0.036466         0.066296   \n",
       "Foreign Worker                          0.082079        -0.035187   \n",
       "\n",
       "                                   Duration of Credit (month)  \\\n",
       "Creditability                                       -0.214927   \n",
       "Account Balance                                     -0.072013   \n",
       "Duration of Credit (month)                           1.000000   \n",
       "Payment Status of Previous Credit                   -0.077186   \n",
       "Purpose                                              0.147492   \n",
       "Credit Amount                                        0.624988   \n",
       "Value Savings/Stocks                                 0.047661   \n",
       "Length of current employment                         0.057381   \n",
       "Instalment per cent                                  0.074749   \n",
       "Sex & Marital Status                                 0.014789   \n",
       "Guarantors                                          -0.024490   \n",
       "Duration in Current address                          0.034067   \n",
       "Most valuable available asset                        0.303971   \n",
       "Age (years)                                         -0.037550   \n",
       "Concurrent Credits                                  -0.062884   \n",
       "Type of apartment                                    0.153126   \n",
       "No of Credits at this Bank                          -0.011284   \n",
       "Occupation                                           0.210910   \n",
       "No of dependents                                    -0.023834   \n",
       "Telephone                                            0.164718   \n",
       "Foreign Worker                                      -0.134680   \n",
       "\n",
       "                                   Payment Status of Previous Credit  \\\n",
       "Creditability                                               0.228785   \n",
       "Account Balance                                             0.192191   \n",
       "Duration of Credit (month)                                 -0.077186   \n",
       "Payment Status of Previous Credit                           1.000000   \n",
       "Purpose                                                    -0.090336   \n",
       "Credit Amount                                              -0.059915   \n",
       "Value Savings/Stocks                                        0.039058   \n",
       "Length of current employment                                0.138225   \n",
       "Instalment per cent                                         0.044375   \n",
       "Sex & Marital Status                                        0.042171   \n",
       "Guarantors                                                 -0.040676   \n",
       "Duration in Current address                                 0.063198   \n",
       "Most valuable available asset                              -0.053777   \n",
       "Age (years)                                                 0.146337   \n",
       "Concurrent Credits                                          0.159957   \n",
       "Type of apartment                                           0.061428   \n",
       "No of Credits at this Bank                                  0.437066   \n",
       "Occupation                                                  0.010350   \n",
       "No of dependents                                            0.011550   \n",
       "Telephone                                                   0.052370   \n",
       "Foreign Worker                                              0.028554   \n",
       "\n",
       "                                    Purpose  Credit Amount  \\\n",
       "Creditability                     -0.017979      -0.154740   \n",
       "Account Balance                    0.028783      -0.042695   \n",
       "Duration of Credit (month)         0.147492       0.624988   \n",
       "Payment Status of Previous Credit -0.090336      -0.059915   \n",
       "Purpose                            1.000000       0.068480   \n",
       "Credit Amount                      0.068480       1.000000   \n",
       "Value Savings/Stocks              -0.018684       0.064632   \n",
       "Length of current employment       0.016013      -0.008376   \n",
       "Instalment per cent                0.048369      -0.271322   \n",
       "Sex & Marital Status               0.000157      -0.016094   \n",
       "Guarantors                        -0.017607      -0.027831   \n",
       "Duration in Current address       -0.038221       0.028917   \n",
       "Most valuable available asset      0.010966       0.311602   \n",
       "Age (years)                       -0.000892       0.032273   \n",
       "Concurrent Credits                -0.100230      -0.069392   \n",
       "Type of apartment                  0.013495       0.133024   \n",
       "No of Credits at this Bank         0.054935       0.020785   \n",
       "Occupation                         0.008085       0.285393   \n",
       "No of dependents                  -0.032577       0.017144   \n",
       "Telephone                          0.078371       0.277000   \n",
       "Foreign Worker                    -0.113244      -0.030662   \n",
       "\n",
       "                                   Value Savings/Stocks  \\\n",
       "Creditability                                  0.178943   \n",
       "Account Balance                                0.222867   \n",
       "Duration of Credit (month)                     0.047661   \n",
       "Payment Status of Previous Credit              0.039058   \n",
       "Purpose                                       -0.018684   \n",
       "Credit Amount                                  0.064632   \n",
       "Value Savings/Stocks                           1.000000   \n",
       "Length of current employment                   0.120950   \n",
       "Instalment per cent                            0.021993   \n",
       "Sex & Marital Status                           0.017349   \n",
       "Guarantors                                    -0.105069   \n",
       "Duration in Current address                    0.091424   \n",
       "Most valuable available asset                  0.018948   \n",
       "Age (years)                                    0.083434   \n",
       "Concurrent Credits                             0.001908   \n",
       "Type of apartment                              0.006644   \n",
       "No of Credits at this Bank                    -0.021644   \n",
       "Occupation                                     0.011709   \n",
       "No of dependents                               0.027514   \n",
       "Telephone                                      0.087208   \n",
       "Foreign Worker                                 0.010450   \n",
       "\n",
       "                                   Length of current employment  \\\n",
       "Creditability                                          0.116002   \n",
       "Account Balance                                        0.106339   \n",
       "Duration of Credit (month)                             0.057381   \n",
       "Payment Status of Previous Credit                      0.138225   \n",
       "Purpose                                                0.016013   \n",
       "Credit Amount                                         -0.008376   \n",
       "Value Savings/Stocks                                   0.120950   \n",
       "Length of current employment                           1.000000   \n",
       "Instalment per cent                                    0.126161   \n",
       "Sex & Marital Status                                   0.111278   \n",
       "Guarantors                                            -0.008116   \n",
       "Duration in Current address                            0.245081   \n",
       "Most valuable available asset                          0.087187   \n",
       "Age (years)                                            0.259116   \n",
       "Concurrent Credits                                    -0.007279   \n",
       "Type of apartment                                      0.115077   \n",
       "No of Credits at this Bank                             0.125791   \n",
       "Occupation                                             0.101225   \n",
       "No of dependents                                       0.097192   \n",
       "Telephone                                              0.060518   \n",
       "Foreign Worker                                        -0.022845   \n",
       "\n",
       "                                   Instalment per cent  Sex & Marital Status  \\\n",
       "Creditability                                -0.072404              0.088184   \n",
       "Account Balance                              -0.005280              0.043261   \n",
       "Duration of Credit (month)                    0.074749              0.014789   \n",
       "Payment Status of Previous Credit             0.044375              0.042171   \n",
       "Purpose                                       0.048369              0.000157   \n",
       "Credit Amount                                -0.271322             -0.016094   \n",
       "Value Savings/Stocks                          0.021993              0.017349   \n",
       "Length of current employment                  0.126161              0.111278   \n",
       "Instalment per cent                           1.000000              0.119308   \n",
       "Sex & Marital Status                          0.119308              1.000000   \n",
       "Guarantors                                   -0.011398              0.050634   \n",
       "Duration in Current address                   0.049302             -0.027269   \n",
       "Most valuable available asset                 0.053391             -0.006940   \n",
       "Age (years)                                   0.057271              0.005150   \n",
       "Concurrent Credits                            0.007894             -0.026747   \n",
       "Type of apartment                             0.091229              0.098934   \n",
       "No of Credits at this Bank                    0.021669              0.064672   \n",
       "Occupation                                    0.097755             -0.011956   \n",
       "No of dependents                             -0.071207              0.122165   \n",
       "Telephone                                     0.014413              0.027275   \n",
       "Foreign Worker                               -0.094762              0.073103   \n",
       "\n",
       "                                   ...  Duration in Current address  \\\n",
       "Creditability                      ...                    -0.002967   \n",
       "Account Balance                    ...                    -0.042234   \n",
       "Duration of Credit (month)         ...                     0.034067   \n",
       "Payment Status of Previous Credit  ...                     0.063198   \n",
       "Purpose                            ...                    -0.038221   \n",
       "Credit Amount                      ...                     0.028917   \n",
       "Value Savings/Stocks               ...                     0.091424   \n",
       "Length of current employment       ...                     0.245081   \n",
       "Instalment per cent                ...                     0.049302   \n",
       "Sex & Marital Status               ...                    -0.027269   \n",
       "Guarantors                         ...                    -0.025678   \n",
       "Duration in Current address        ...                     1.000000   \n",
       "Most valuable available asset      ...                     0.147231   \n",
       "Age (years)                        ...                     0.265626   \n",
       "Concurrent Credits                 ...                     0.022654   \n",
       "Type of apartment                  ...                     0.009990   \n",
       "No of Credits at this Bank         ...                     0.089625   \n",
       "Occupation                         ...                     0.012655   \n",
       "No of dependents                   ...                     0.042643   \n",
       "Telephone                          ...                     0.095359   \n",
       "Foreign Worker                     ...                    -0.039691   \n",
       "\n",
       "                                   Most valuable available asset  Age (years)  \\\n",
       "Creditability                                          -0.142612     0.091272   \n",
       "Account Balance                                        -0.032260     0.058631   \n",
       "Duration of Credit (month)                              0.303971    -0.037550   \n",
       "Payment Status of Previous Credit                      -0.053777     0.146337   \n",
       "Purpose                                                 0.010966    -0.000892   \n",
       "Credit Amount                                           0.311602     0.032273   \n",
       "Value Savings/Stocks                                    0.018948     0.083434   \n",
       "Length of current employment                            0.087187     0.259116   \n",
       "Instalment per cent                                     0.053391     0.057271   \n",
       "Sex & Marital Status                                   -0.006940     0.005150   \n",
       "Guarantors                                             -0.155450    -0.029826   \n",
       "Duration in Current address                             0.147231     0.265626   \n",
       "Most valuable available asset                           1.000000     0.074551   \n",
       "Age (years)                                             0.074551     1.000000   \n",
       "Concurrent Credits                                     -0.107593    -0.030472   \n",
       "Type of apartment                                       0.342969     0.303346   \n",
       "No of Credits at this Bank                             -0.007765     0.150718   \n",
       "Occupation                                              0.276149     0.015383   \n",
       "No of dependents                                        0.011872     0.118589   \n",
       "Telephone                                               0.196802     0.143506   \n",
       "Foreign Worker                                         -0.132462     0.013981   \n",
       "\n",
       "                                   Concurrent Credits  Type of apartment  \\\n",
       "Creditability                                0.109844           0.018119   \n",
       "Account Balance                              0.068274           0.023335   \n",
       "Duration of Credit (month)                  -0.062884           0.153126   \n",
       "Payment Status of Previous Credit            0.159957           0.061428   \n",
       "Purpose                                     -0.100230           0.013495   \n",
       "Credit Amount                               -0.069392           0.133024   \n",
       "Value Savings/Stocks                         0.001908           0.006644   \n",
       "Length of current employment                -0.007279           0.115077   \n",
       "Instalment per cent                          0.007894           0.091229   \n",
       "Sex & Marital Status                        -0.026747           0.098934   \n",
       "Guarantors                                  -0.038235          -0.065449   \n",
       "Duration in Current address                  0.022654           0.009990   \n",
       "Most valuable available asset               -0.107593           0.342969   \n",
       "Age (years)                                 -0.030472           0.303346   \n",
       "Concurrent Credits                           1.000000          -0.097398   \n",
       "Type of apartment                           -0.097398           1.000000   \n",
       "No of Credits at this Bank                  -0.055810           0.050020   \n",
       "Occupation                                   0.006077           0.104243   \n",
       "No of dependents                            -0.076891           0.115549   \n",
       "Telephone                                   -0.025140           0.100327   \n",
       "Foreign Worker                               0.007700          -0.083336   \n",
       "\n",
       "                                   No of Credits at this Bank  Occupation  \\\n",
       "Creditability                                        0.045732   -0.032735   \n",
       "Account Balance                                      0.076005    0.040663   \n",
       "Duration of Credit (month)                          -0.011284    0.210910   \n",
       "Payment Status of Previous Credit                    0.437066    0.010350   \n",
       "Purpose                                              0.054935    0.008085   \n",
       "Credit Amount                                        0.020785    0.285393   \n",
       "Value Savings/Stocks                                -0.021644    0.011709   \n",
       "Length of current employment                         0.125791    0.101225   \n",
       "Instalment per cent                                  0.021669    0.097755   \n",
       "Sex & Marital Status                                 0.064672   -0.011956   \n",
       "Guarantors                                          -0.025447   -0.057963   \n",
       "Duration in Current address                          0.089625    0.012655   \n",
       "Most valuable available asset                       -0.007765    0.276149   \n",
       "Age (years)                                          0.150718    0.015383   \n",
       "Concurrent Credits                                  -0.055810    0.006077   \n",
       "Type of apartment                                    0.050020    0.104243   \n",
       "No of Credits at this Bank                           1.000000   -0.026321   \n",
       "Occupation                                          -0.026321    1.000000   \n",
       "No of dependents                                     0.109667   -0.093559   \n",
       "Telephone                                            0.065553    0.383022   \n",
       "Foreign Worker                                      -0.018893   -0.092835   \n",
       "\n",
       "                                   No of dependents  Telephone  Foreign Worker  \n",
       "Creditability                              0.003015   0.036466        0.082079  \n",
       "Account Balance                           -0.014145   0.066296       -0.035187  \n",
       "Duration of Credit (month)                -0.023834   0.164718       -0.134680  \n",
       "Payment Status of Previous Credit          0.011550   0.052370        0.028554  \n",
       "Purpose                                   -0.032577   0.078371       -0.113244  \n",
       "Credit Amount                              0.017144   0.277000       -0.030662  \n",
       "Value Savings/Stocks                       0.027514   0.087208        0.010450  \n",
       "Length of current employment               0.097192   0.060518       -0.022845  \n",
       "Instalment per cent                       -0.071207   0.014413       -0.094762  \n",
       "Sex & Marital Status                       0.122165   0.027275        0.073103  \n",
       "Guarantors                                 0.020400  -0.075035        0.140190  \n",
       "Duration in Current address                0.042643   0.095359       -0.039691  \n",
       "Most valuable available asset              0.011872   0.196802       -0.132462  \n",
       "Age (years)                                0.118589   0.143506        0.013981  \n",
       "Concurrent Credits                        -0.076891  -0.025140        0.007700  \n",
       "Type of apartment                          0.115549   0.100327       -0.083336  \n",
       "No of Credits at this Bank                 0.109667   0.065553       -0.018893  \n",
       "Occupation                                -0.093559   0.383022       -0.092835  \n",
       "No of dependents                           1.000000  -0.014753        0.077071  \n",
       "Telephone                                 -0.014753   1.000000       -0.075012  \n",
       "Foreign Worker                             0.077071  -0.075012        1.000000  \n",
       "\n",
       "[21 rows x 21 columns]"
      ]
     },
     "execution_count": 9,
     "metadata": {},
     "output_type": "execute_result"
    }
   ],
   "source": [
    "credit.corr()"
   ]
  },
  {
   "cell_type": "code",
   "execution_count": 11,
   "id": "f539a85a",
   "metadata": {},
   "outputs": [
    {
     "data": {
      "text/plain": [
       "<AxesSubplot:xlabel='Account Balance', ylabel='Credit Amount'>"
      ]
     },
     "execution_count": 11,
     "metadata": {},
     "output_type": "execute_result"
    },
    {
     "data": {
      "image/png": "[encoded data removed]",
      "text/plain": [
       "<Figure size 640x480 with 1 Axes>"
      ]
     },
     "metadata": {},
     "output_type": "display_data"
    }
   ],
   "source": [
    "import numpy as np\n",
    "import seaborn as sns \n",
    " \n",
    "# change the estimator from mean to standard deviation\n",
    "sns.barplot(x ='Account Balance', y ='Credit Amount', data = credit,\n",
    "            palette ='plasma', estimator = np.std)"
   ]
  },
  {
   "cell_type": "code",
   "execution_count": 12,
   "id": "f215946a",
   "metadata": {},
   "outputs": [
    {
     "data": {
      "text/plain": [
       "1    700\n",
       "0    300\n",
       "Name: Creditability, dtype: int64"
      ]
     },
     "execution_count": 12,
     "metadata": {},
     "output_type": "execute_result"
    }
   ],
   "source": [
    "credit['Creditability'].value_counts()"
   ]
  },
  {
   "cell_type": "code",
   "execution_count": 21,
   "id": "72c1ffd7",
   "metadata": {},
   "outputs": [],
   "source": [
    "#split dataset in features and target variable\n",
    "feature_cols = ['Account Balance', 'Duration of Credit (month)', 'Payment Status of Previous Credit', 'Purpose','Credit Amount','Value Savings/Stocks','Length of current employment','Instalment per cent','Sex & Marital Status','Guarantors','Duration in Current address','Most valuable available asset','Age (years)','Concurrent Credits','Type of apartment','No of Credits at this Bank','Occupation','No of dependents','Telephone','Foreign Worker']\n",
    "#feature_cols = ['Account Balance',  'Payment Status of Previous Credit', 'Purpose','Value Savings/Stocks','Length of current employment','Instalment per cent','Sex & Marital Status','Guarantors','Duration in Current address','Most valuable available asset','Concurrent Credits','Type of apartment','No of Credits at this Bank','Occupation','No of dependents','Telephone','Foreign Worker']\n",
    "X = credit[feature_cols]  # Features\n",
    "y = credit.Creditability    # Target variable"
   ]
  },
  {
   "cell_type": "code",
   "execution_count": 34,
   "id": "6359a98b",
   "metadata": {
    "scrolled": true
   },
   "outputs": [
    {
     "name": "stdout",
     "output_type": "stream",
     "text": [
      "Original dataset shape Counter({1: 700, 0: 300})\n"
     ]
    }
   ],
   "source": [
    "from collections import Counter\n",
    "print('Original dataset shape %s' % Counter(y))"
   ]
  },
  {
   "cell_type": "code",
   "execution_count": 35,
   "id": "643927f2",
   "metadata": {},
   "outputs": [
    {
     "name": "stdout",
     "output_type": "stream",
     "text": [
      "Resampled dataset shape Counter({1: 700, 0: 700})\n"
     ]
    }
   ],
   "source": [
    "from imblearn.over_sampling import SMOTE\n",
    "sm = SMOTE(random_state=42)\n",
    "X_res, y_res = sm.fit_resample(X, y)\n",
    "print('Resampled dataset shape %s' % Counter(y_res))"
   ]
  },
  {
   "cell_type": "code",
   "execution_count": 37,
   "id": "6e928829",
   "metadata": {},
   "outputs": [
    {
     "data": {
      "text/plain": [
       "<AxesSubplot:>"
      ]
     },
     "execution_count": 37,
     "metadata": {},
     "output_type": "execute_result"
    },
    {
     "data": {
      "image/png": "[encoded data removed]",
      "text/plain": [
       "<Figure size 640x480 with 1 Axes>"
      ]
     },
     "metadata": {},
     "output_type": "display_data"
    }
   ],
   "source": [
    "y_res.value_counts().plot(kind='bar')"
   ]
  },
  {
   "cell_type": "code",
   "execution_count": 38,
   "id": "f37ed7c8",
   "metadata": {},
   "outputs": [],
   "source": [
    "# Split X and y into training and testing sets\n",
    "from sklearn.model_selection import train_test_split\n",
    "\n",
    "X_train,X_test,y_train,y_test=train_test_split(X_res, y_res, test_size=0.25, random_state=0)"
   ]
  },
  {
   "cell_type": "code",
   "execution_count": 39,
   "id": "2b09449a",
   "metadata": {},
   "outputs": [
    {
     "name": "stderr",
     "output_type": "stream",
     "text": [
      "C:\\Users\\bl7771mw\\anaconda\\lib\\site-packages\\sklearn\\linear_model\\_logistic.py:814: ConvergenceWarning: lbfgs failed to converge (status=1):\n",
      "STOP: TOTAL NO. of ITERATIONS REACHED LIMIT.\n",
      "\n",
      "Increase the number of iterations (max_iter) or scale the data as shown in:\n",
      "    https://scikit-learn.org/stable/modules/preprocessing.html\n",
      "Please also refer to the documentation for alternative solver options:\n",
      "    https://scikit-learn.org/stable/modules/linear_model.html#logistic-regression\n",
      "  n_iter_i = _check_optimize_result(\n"
     ]
    }
   ],
   "source": [
    "# import the class\n",
    "\n",
    "from sklearn.linear_model import LogisticRegression\n",
    "\n",
    "# instantiate the model (using the default parameters)\n",
    "logreg = LogisticRegression()\n",
    "\n",
    "# fit the model with data\n",
    "logreg.fit(X_train,y_train)\n",
    "\n",
    "# predict \n",
    "y_pred=logreg.predict(X_test)"
   ]
  },
  {
   "cell_type": "code",
   "execution_count": 40,
   "id": "4f45c89e",
   "metadata": {},
   "outputs": [
    {
     "data": {
      "text/plain": [
       "array([[123,  58],\n",
       "       [ 40, 129]], dtype=int64)"
      ]
     },
     "execution_count": 40,
     "metadata": {},
     "output_type": "execute_result"
    }
   ],
   "source": [
    "# import the metrics class\n",
    "from sklearn import metrics\n",
    "\n",
    "cnf_matrix = metrics.confusion_matrix(y_test, y_pred)\n",
    "\n",
    "cnf_matrix"
   ]
  },
  {
   "cell_type": "code",
   "execution_count": 41,
   "id": "6607fee9",
   "metadata": {},
   "outputs": [
    {
     "data": {
      "text/plain": [
       "Text(0.5, 427.9555555555555, 'Predicted label')"
      ]
     },
     "execution_count": 41,
     "metadata": {},
     "output_type": "execute_result"
    },
    {
     "data": {
      "image/png": "[encoded data removed]",
      "text/plain": [
       "<Figure size 640x480 with 2 Axes>"
      ]
     },
     "metadata": {},
     "output_type": "display_data"
    }
   ],
   "source": [
    "# import required modules\n",
    "import numpy as np\n",
    "import matplotlib.pyplot as plt\n",
    "import seaborn as sns\n",
    "\n",
    "%matplotlib inline\n",
    "class_names=[0,1] \n",
    "# name  of classes\n",
    "fig, ax = plt.subplots()\n",
    "tick_marks = np.arange(len(class_names))\n",
    "plt.xticks(tick_marks, class_names)\n",
    "plt.yticks(tick_marks, class_names)\n",
    "\n",
    "# create heatmap\n",
    "sns.heatmap(pd.DataFrame(cnf_matrix), annot=True, cmap=\"YlGnBu\" ,fmt='g')\n",
    "ax.xaxis.set_label_position(\"top\")\n",
    "plt.tight_layout()\n",
    "\n",
    "plt.title('Confusion matrix', y=1.1)\n",
    "\n",
    "plt.ylabel('Actual label')\n",
    "plt.xlabel('Predicted label')"
   ]
  },
  {
   "cell_type": "code",
   "execution_count": 42,
   "id": "74c1dd1f",
   "metadata": {},
   "outputs": [
    {
     "name": "stdout",
     "output_type": "stream",
     "text": [
      "Accuracy: 0.72\n",
      "Precision: 0.6898395721925134\n",
      "Recall: 0.7633136094674556\n"
     ]
    }
   ],
   "source": [
    "print(\"Accuracy:\",metrics.accuracy_score(y_test, y_pred))\n",
    "print(\"Precision:\",metrics.precision_score(y_test, y_pred))\n",
    "print(\"Recall:\",metrics.recall_score(y_test, y_pred))"
   ]
  },
  {
   "cell_type": "code",
   "execution_count": 43,
   "id": "a7814903",
   "metadata": {},
   "outputs": [
    {
     "data": {
      "image/png": "[encoded data removed]",
      "text/plain": [
       "<Figure size 640x480 with 1 Axes>"
      ]
     },
     "metadata": {},
     "output_type": "display_data"
    }
   ],
   "source": [
    "y_pred_proba = logreg.predict_proba(X_test)[::,1]\n",
    "\n",
    "fpr, tpr, _ = metrics.roc_curve(y_test,  y_pred_proba)\n",
    "\n",
    "auc = metrics.roc_auc_score(y_test, y_pred_proba)\n",
    "\n",
    "plt.plot(fpr,tpr,label=\"data 1, auc=\"+str(auc))\n",
    "plt.legend(loc=4)\n",
    "\n",
    "plt.show()"
   ]
  },
  {
   "cell_type": "markdown",
   "id": "3ca53cc9",
   "metadata": {},
   "source": [
    "## Naive Bayes\n"
   ]
  },
  {
   "cell_type": "code",
   "execution_count": 44,
   "id": "9550e405",
   "metadata": {},
   "outputs": [],
   "source": [
    "#Import Gaussian Naive Bayes model\n",
    "from sklearn.naive_bayes import GaussianNB\n",
    "\n",
    "#Create a Gaussian Classifier\n",
    "gnb = GaussianNB()\n",
    "\n",
    "#Train the model using the training sets\n",
    "gnb.fit(X_train, y_train)\n",
    "\n",
    "#Predict the response for test dataset\n",
    "y_pred = gnb.predict(X_test)"
   ]
  },
  {
   "cell_type": "code",
   "execution_count": 45,
   "id": "ff2ca93c",
   "metadata": {},
   "outputs": [
    {
     "name": "stdout",
     "output_type": "stream",
     "text": [
      "Accuracy: 0.74\n"
     ]
    }
   ],
   "source": [
    "#Import scikit-learn metrics module for accuracy calculation\n",
    "from sklearn import metrics\n",
    "\n",
    "# Model Accuracy, how often is the classifier correct?\n",
    "print(\"Accuracy:\",metrics.accuracy_score(y_test, y_pred))"
   ]
  },
  {
   "cell_type": "markdown",
   "id": "19201359",
   "metadata": {},
   "source": [
    "## SVM"
   ]
  },
  {
   "cell_type": "code",
   "execution_count": 46,
   "id": "4835f3ba",
   "metadata": {},
   "outputs": [],
   "source": [
    "#Import svm model\n",
    "from sklearn import svm\n",
    "\n",
    "#Create a svm Classifier\n",
    "clf = svm.SVC(kernel='linear') # Linear Kernel\n",
    "\n",
    "#Train the model using the training sets\n",
    "clf.fit(X_train, y_train)\n",
    "\n",
    "#Predict the response for test dataset\n",
    "y_pred = clf.predict(X_test)"
   ]
  },
  {
   "cell_type": "code",
   "execution_count": 47,
   "id": "0b78963e",
   "metadata": {},
   "outputs": [
    {
     "name": "stdout",
     "output_type": "stream",
     "text": [
      "Accuracy: 0.7657142857142857\n"
     ]
    }
   ],
   "source": [
    "#Import scikit-learn metrics module for accuracy calculation\n",
    "from sklearn import metrics\n",
    "\n",
    "# Model Accuracy: how often is the classifier correct?\n",
    "print(\"Accuracy:\",metrics.accuracy_score(y_test, y_pred))"
   ]
  },
  {
   "cell_type": "markdown",
   "id": "0cda9685",
   "metadata": {},
   "source": [
    "## KNN"
   ]
  },
  {
   "cell_type": "code",
   "execution_count": 50,
   "id": "00882e28",
   "metadata": {},
   "outputs": [
    {
     "name": "stderr",
     "output_type": "stream",
     "text": [
      "C:\\Users\\bl7771mw\\anaconda\\lib\\site-packages\\sklearn\\neighbors\\_classification.py:228: FutureWarning: Unlike other reduction functions (e.g. `skew`, `kurtosis`), the default behavior of `mode` typically preserves the axis it acts along. In SciPy 1.11.0, this behavior will change: the default value of `keepdims` will become False, the `axis` over which the statistic is taken will be eliminated, and the value None will no longer be accepted. Set `keepdims` to True or False to avoid this warning.\n",
      "  mode, _ = stats.mode(_y[neigh_ind, k], axis=1)\n"
     ]
    }
   ],
   "source": [
    "#Import knearest neighbors Classifier model\n",
    "from sklearn.neighbors import KNeighborsClassifier\n",
    "\n",
    "# Create KNN Classifier\n",
    "knn = KNeighborsClassifier(n_neighbors=10)\n",
    "\n",
    "# Train the model using the training sets\n",
    "knn.fit(X_train, y_train)\n",
    "\n",
    "# Predict the response for test dataset\n",
    "y_pred = knn.predict(X_test)"
   ]
  },
  {
   "cell_type": "code",
   "execution_count": 51,
   "id": "a391ad72",
   "metadata": {},
   "outputs": [
    {
     "name": "stdout",
     "output_type": "stream",
     "text": [
      "Accuracy: 0.6028571428571429\n"
     ]
    }
   ],
   "source": [
    "#Import scikit-learn metrics module for accuracy calculation\n",
    "from sklearn import metrics\n",
    "\n",
    "# Model Accuracy, how often is the classifier correct?\n",
    "print(\"Accuracy:\",metrics.accuracy_score(y_test, y_pred))"
   ]
  },
  {
   "cell_type": "markdown",
   "id": "94cfff6c",
   "metadata": {},
   "source": [
    "## RANDOM FOREST"
   ]
  },
  {
   "cell_type": "code",
   "execution_count": 48,
   "id": "da00271c",
   "metadata": {},
   "outputs": [],
   "source": [
    "#Import Random Forest Model\n",
    "from sklearn.ensemble import RandomForestClassifier\n",
    "\n",
    "#Create a Gaussian Classifier\n",
    "clf=RandomForestClassifier(n_estimators=100)\n",
    "\n",
    "#Train the model using the training sets \n",
    "#y_pred=clf.predict(X_test)\n",
    "\n",
    "clf.fit(X_train,y_train)\n",
    "\n",
    "y_pred=clf.predict(X_test)"
   ]
  },
  {
   "cell_type": "code",
   "execution_count": 49,
   "id": "c0aa6555",
   "metadata": {},
   "outputs": [
    {
     "name": "stdout",
     "output_type": "stream",
     "text": [
      "Accuracy: 0.8\n"
     ]
    }
   ],
   "source": [
    "#Import scikit-learn metrics module for accuracy calculation\n",
    "from sklearn import metrics\n",
    "\n",
    "# Model Accuracy, how often is the classifier correct?\n",
    "\n",
    "print(\"Accuracy:\",metrics.accuracy_score(y_test, y_pred))"
   ]
  },
  {
   "cell_type": "markdown",
   "id": "4dbfe317",
   "metadata": {},
   "source": [
    "## XGBOOST"
   ]
  },
  {
   "cell_type": "code",
   "execution_count": 54,
   "id": "c6927d65",
   "metadata": {},
   "outputs": [],
   "source": [
    "import xgboost as xgb\n",
    "dtrain = xgb.DMatrix(X_train, label=y_train)\n",
    "dtest = xgb.DMatrix(X_test, label=y_test)"
   ]
  },
  {
   "cell_type": "code",
   "execution_count": 55,
   "id": "58678931",
   "metadata": {},
   "outputs": [],
   "source": [
    "param = {\n",
    "'objective': 'multi:softprob',\n",
    "'eta': 0.4,\n",
    "'max_depth': 3,\n",
    "'gamma': 1.0,\n",
    "'num_class': 3 }"
   ]
  },
  {
   "cell_type": "code",
   "execution_count": 56,
   "id": "f6399cde",
   "metadata": {},
   "outputs": [],
   "source": [
    "model = xgb.train(param, dtrain, 20)"
   ]
  },
  {
   "cell_type": "code",
   "execution_count": 57,
   "id": "f874a99a",
   "metadata": {},
   "outputs": [],
   "source": [
    "import numpy as np\n",
    "\n",
    "y_pred = model.predict(dtest)\n",
    "predicts = np.asarray([np.argmax(val) for val in y_pred])"
   ]
  },
  {
   "cell_type": "code",
   "execution_count": 58,
   "id": "255d02f6",
   "metadata": {},
   "outputs": [
    {
     "name": "stdout",
     "output_type": "stream",
     "text": [
      "Accuracy = 0.7914285714285715\n"
     ]
    }
   ],
   "source": [
    "from sklearn.metrics import accuracy_score\n",
    "acc = accuracy_score(y_test, predicts)\n",
    "print('Accuracy = {}'.format(acc))"
   ]
  },
  {
   "cell_type": "code",
   "execution_count": null,
   "id": "fc26ed7c",
   "metadata": {},
   "outputs": [],
   "source": []
  }
 ],
 "metadata": {
  "kernelspec": {
   "display_name": "Python 3 (ipykernel)",
   "language": "python",
   "name": "python3"
  },
  "language_info": {
   "codemirror_mode": {
    "name": "ipython",
    "version": 3
   },
   "file_extension": ".py",
   "mimetype": "text/x-python",
   "name": "python",
   "nbconvert_exporter": "python",
   "pygments_lexer": "ipython3",
   "version": "3.9.13"
  }
 },
 "nbformat": 4,
 "nbformat_minor": 5
}
